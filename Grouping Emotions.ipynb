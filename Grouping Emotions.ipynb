{
 "cells": [
  {
   "cell_type": "markdown",
   "metadata": {},
   "source": [
    "# Grouping similar words"
   ]
  },
  {
   "cell_type": "code",
   "execution_count": 1,
   "metadata": {},
   "outputs": [
    {
     "name": "stdout",
     "output_type": "stream",
     "text": [
      "CPU times: user 798 ms, sys: 1.02 s, total: 1.82 s\n",
      "Wall time: 844 ms\n"
     ]
    }
   ],
   "source": [
    "%%time\n",
    "from difflib import get_close_matches\n",
    "from core.utils import get_closest_vector\n",
    "\n",
    "import matplotlib.pyplot as plt\n",
    "import pandas as pd\n",
    "import numpy as np\n",
    "\n",
    "%load_ext autoreload\n",
    "%autoreload 2"
   ]
  },
  {
   "cell_type": "markdown",
   "metadata": {},
   "source": [
    "### Reading data"
   ]
  },
  {
   "cell_type": "code",
   "execution_count": 2,
   "metadata": {},
   "outputs": [],
   "source": [
    "def clean_alt_list(list_):\n",
    "    list_ = str(list_)\n",
    "    list_ = list_.replace('[', '')\n",
    "    list_ = list_.replace(']', '')\n",
    "    list_ = list_.replace(\"'\", '')\n",
    "    list_ = list_.split(',')\n",
    "    return list_"
   ]
  },
  {
   "cell_type": "code",
   "execution_count": 3,
   "metadata": {},
   "outputs": [],
   "source": [
    "emotions = pd.read_csv('./data/emotions.csv', low_memory=False)"
   ]
  },
  {
   "cell_type": "code",
   "execution_count": 4,
   "metadata": {},
   "outputs": [],
   "source": [
    "emotions['name_tokens'] = emotions['name_tokens'].apply(lambda x: clean_alt_list(x))"
   ]
  },
  {
   "cell_type": "markdown",
   "metadata": {},
   "source": [
    "### Identifying emotions\n",
    "\n",
    "The final `emo_vector_unicode` has a lot of words which are not related with emotions or sentiments. This is because some entries in the survey was filled with free-text. In attemp to capture all posible emotions we splitted that free text in singular words (assumming that all of them could be a potencial emotion).\n",
    "\n",
    "Now It is time to discriminate them. We use [Spanish Emotion Lexicon](http://www.cic.ipn.mx/~sidorov/#SEL)(SEL) to filter words."
   ]
  },
  {
   "cell_type": "code",
   "execution_count": 5,
   "metadata": {},
   "outputs": [
    {
     "data": {
      "text/plain": [
       "array(['Alegría', 'Enojo', 'Miedo', 'Repulsión', 'Sorpresa', 'Tristeza'],\n",
       "      dtype=object)"
      ]
     },
     "execution_count": 5,
     "metadata": {},
     "output_type": "execute_result"
    }
   ],
   "source": [
    "SEL_df = pd.read_excel('./files/SEL.xlsx', engine='openpyxl')\n",
    "standard_emotions = SEL_df['Palabra']\n",
    "SEL_df['Categoría'].unique()"
   ]
  },
  {
   "cell_type": "markdown",
   "metadata": {},
   "source": [
    "In order to find matches between survey words and the standard ones, we use `get_close_matches` which compare words using similarity criteria."
   ]
  },
  {
   "cell_type": "code",
   "execution_count": 6,
   "metadata": {},
   "outputs": [
    {
     "name": "stdout",
     "output_type": "stream",
     "text": [
      "CPU times: user 18min 41s, sys: 276 ms, total: 18min 41s\n",
      "Wall time: 18min 43s\n"
     ]
    }
   ],
   "source": [
    "%%time\n",
    "emo_vector_matched = []\n",
    "final_category = []\n",
    "# iterate over the list of tokens\n",
    "for word in emotions['name_tokens']:\n",
    "    closest = []\n",
    "    categories = []\n",
    "    # for each word within the list (some people wrote sentences instead of a single word)\n",
    "    for w in word:\n",
    "        # get the closest emotion from SEL dictonary\n",
    "        closest_word = get_close_matches(w.strip(), standard_emotions,n=1, cutoff=0.7)\n",
    "        if closest_word != []:\n",
    "            # if we match some emotion then save its category\n",
    "            cat = SEL_df[SEL_df['Palabra']==closest_word[0]]['Categoría']\n",
    "            categories.append(cat.values[0])\n",
    "            closest.append(closest_word[0])\n",
    "        else:\n",
    "            continue\n",
    "    \n",
    "    # at the end of the process... check if the response has a category\n",
    "    if closest == []:\n",
    "        final_category.append('')        \n",
    "        emo_vector_matched.append('')\n",
    "    else:\n",
    "        final_category.append(categories[0])        \n",
    "        emo_vector_matched.append(closest[0])"
   ]
  },
  {
   "cell_type": "code",
   "execution_count": 7,
   "metadata": {},
   "outputs": [
    {
     "name": "stdout",
     "output_type": "stream",
     "text": [
      "Non categorized values: 0.0 %\n"
     ]
    }
   ],
   "source": [
    "print('Non categorized values: {:.1f} %'.format(emotions[emotions['macro'] == ''].shape[0]/emotions.shape[0]*100))"
   ]
  },
  {
   "cell_type": "code",
   "execution_count": 8,
   "metadata": {},
   "outputs": [],
   "source": [
    "emotions['macro'] = final_category"
   ]
  },
  {
   "cell_type": "code",
   "execution_count": 10,
   "metadata": {},
   "outputs": [
    {
     "data": {
      "text/html": [
       "<div>\n",
       "<style scoped>\n",
       "    .dataframe tbody tr th:only-of-type {\n",
       "        vertical-align: middle;\n",
       "    }\n",
       "\n",
       "    .dataframe tbody tr th {\n",
       "        vertical-align: top;\n",
       "    }\n",
       "\n",
       "    .dataframe thead th {\n",
       "        text-align: right;\n",
       "    }\n",
       "</style>\n",
       "<table border=\"1\" class=\"dataframe\">\n",
       "  <thead>\n",
       "    <tr style=\"text-align: right;\">\n",
       "      <th></th>\n",
       "      <th>id</th>\n",
       "      <th>diag_id</th>\n",
       "      <th>ind_id</th>\n",
       "      <th>name</th>\n",
       "      <th>name_tokens</th>\n",
       "      <th>macro</th>\n",
       "      <th>exp</th>\n",
       "      <th>exp_tokens</th>\n",
       "      <th>is_online</th>\n",
       "    </tr>\n",
       "  </thead>\n",
       "  <tbody>\n",
       "    <tr>\n",
       "      <th>64318</th>\n",
       "      <td>64318</td>\n",
       "      <td>NaN</td>\n",
       "      <td>3193551</td>\n",
       "      <td>cansancio</td>\n",
       "      <td>[cansancio]</td>\n",
       "      <td></td>\n",
       "      <td>el exceso de trabajo</td>\n",
       "      <td>['exceso', 'trabajo']</td>\n",
       "      <td>False</td>\n",
       "    </tr>\n",
       "    <tr>\n",
       "      <th>56998</th>\n",
       "      <td>56998</td>\n",
       "      <td>ENC_U_3183683</td>\n",
       "      <td>NaN</td>\n",
       "      <td>inseguridad</td>\n",
       "      <td>[inseguridad]</td>\n",
       "      <td>Miedo</td>\n",
       "      <td>porque no hay respaldo de la autoridad.</td>\n",
       "      <td>['respaldo', 'autoridad']</td>\n",
       "      <td>True</td>\n",
       "    </tr>\n",
       "    <tr>\n",
       "      <th>51689</th>\n",
       "      <td>51689</td>\n",
       "      <td>ENC_U_4543348788894499680</td>\n",
       "      <td>NaN</td>\n",
       "      <td>inseguridad</td>\n",
       "      <td>[inseguridad]</td>\n",
       "      <td>Miedo</td>\n",
       "      <td>es terrible sentarse inseguro en todas partes,...</td>\n",
       "      <td>['terrible', 'sentarse', 'inseguro', 'todas', ...</td>\n",
       "      <td>True</td>\n",
       "    </tr>\n",
       "  </tbody>\n",
       "</table>\n",
       "</div>"
      ],
      "text/plain": [
       "          id                    diag_id   ind_id         name    name_tokens  \\\n",
       "64318  64318                        NaN  3193551    cansancio    [cansancio]   \n",
       "56998  56998              ENC_U_3183683      NaN  inseguridad  [inseguridad]   \n",
       "51689  51689  ENC_U_4543348788894499680      NaN  inseguridad  [inseguridad]   \n",
       "\n",
       "       macro                                                exp  \\\n",
       "64318                                      el exceso de trabajo   \n",
       "56998  Miedo            porque no hay respaldo de la autoridad.   \n",
       "51689  Miedo  es terrible sentarse inseguro en todas partes,...   \n",
       "\n",
       "                                              exp_tokens  is_online  \n",
       "64318                              ['exceso', 'trabajo']      False  \n",
       "56998                          ['respaldo', 'autoridad']       True  \n",
       "51689  ['terrible', 'sentarse', 'inseguro', 'todas', ...       True  "
      ]
     },
     "execution_count": 10,
     "metadata": {},
     "output_type": "execute_result"
    }
   ],
   "source": [
    "emotions.sample(3)"
   ]
  },
  {
   "cell_type": "code",
   "execution_count": 11,
   "metadata": {},
   "outputs": [],
   "source": [
    "emotions.to_csv('./out/emotions.csv', index=False)"
   ]
  },
  {
   "cell_type": "markdown",
   "metadata": {},
   "source": [
    "## TO CSV"
   ]
  },
  {
   "cell_type": "code",
   "execution_count": 42,
   "metadata": {},
   "outputs": [
    {
     "name": "stdout",
     "output_type": "stream",
     "text": [
      "CPU times: user 323 ms, sys: 28 ms, total: 351 ms\n",
      "Wall time: 352 ms\n"
     ]
    }
   ],
   "source": [
    "%%time\n",
    "emotions = emotions.to_csv('./out/emotions.csv', index=False)"
   ]
  },
  {
   "cell_type": "code",
   "execution_count": null,
   "metadata": {},
   "outputs": [],
   "source": []
  },
  {
   "cell_type": "code",
   "execution_count": null,
   "metadata": {},
   "outputs": [],
   "source": []
  },
  {
   "cell_type": "code",
   "execution_count": null,
   "metadata": {},
   "outputs": [],
   "source": []
  },
  {
   "cell_type": "code",
   "execution_count": null,
   "metadata": {},
   "outputs": [],
   "source": []
  }
 ],
 "metadata": {
  "kernelspec": {
   "display_name": "Python 3",
   "language": "python",
   "name": "python3"
  },
  "language_info": {
   "codemirror_mode": {
    "name": "ipython",
    "version": 3
   },
   "file_extension": ".py",
   "mimetype": "text/x-python",
   "name": "python",
   "nbconvert_exporter": "python",
   "pygments_lexer": "ipython3",
   "version": "3.6.7"
  }
 },
 "nbformat": 4,
 "nbformat_minor": 2
}
