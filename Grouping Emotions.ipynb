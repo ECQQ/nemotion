{
 "cells": [
  {
   "cell_type": "markdown",
   "metadata": {},
   "source": [
    "# Grouping similar words"
   ]
  },
  {
   "cell_type": "code",
   "execution_count": 1,
   "metadata": {},
   "outputs": [
    {
     "name": "stdout",
     "output_type": "stream",
     "text": [
      "CPU times: user 530 ms, sys: 1.13 s, total: 1.66 s\n",
      "Wall time: 482 ms\n"
     ]
    }
   ],
   "source": [
    "%%time\n",
    "from difflib import get_close_matches\n",
    "from core.utils import get_closest_vector\n",
    "\n",
    "import matplotlib.pyplot as plt\n",
    "import pandas as pd\n",
    "import numpy as np\n",
    "\n",
    "%load_ext autoreload\n",
    "%autoreload 2"
   ]
  },
  {
   "cell_type": "markdown",
   "metadata": {},
   "source": [
    "### Reading data"
   ]
  },
  {
   "cell_type": "code",
   "execution_count": 2,
   "metadata": {},
   "outputs": [],
   "source": [
    "def clean_alt_list(list_):\n",
    "    list_ = str(list_)\n",
    "    list_ = list_.replace('[', '')\n",
    "    list_ = list_.replace(']', '')\n",
    "    list_ = list_.replace(\"'\", '')\n",
    "    list_ = list_.split(',')\n",
    "    return list_"
   ]
  },
  {
   "cell_type": "code",
   "execution_count": 3,
   "metadata": {},
   "outputs": [],
   "source": [
    "emotions = pd.read_csv('./data/emotions_table.csv', low_memory=False)"
   ]
  },
  {
   "cell_type": "code",
   "execution_count": 4,
   "metadata": {},
   "outputs": [],
   "source": [
    "emotions['name_tokens'] = emotions['name_tokens'].apply(lambda x: clean_alt_list(x))"
   ]
  },
  {
   "cell_type": "markdown",
   "metadata": {},
   "source": [
    "### Identifying emotions\n",
    "\n",
    "The final `emo_vector_unicode` has a lot of words which are not related with emotions or sentiments. This is because some entries in the survey was filled with free-text. In attemp to capture all posible emotions we splitted that free text in singular words (assumming that all of them could be a potencial emotion).\n",
    "\n",
    "Now It is time to discriminate them. We use [Spanish Emotion Lexicon](http://www.cic.ipn.mx/~sidorov/#SEL)(SEL) to filter words."
   ]
  },
  {
   "cell_type": "code",
   "execution_count": 5,
   "metadata": {},
   "outputs": [
    {
     "data": {
      "text/plain": [
       "array(['Alegría', 'Enojo', 'Miedo', 'Repulsión', 'Sorpresa', 'Tristeza'],\n",
       "      dtype=object)"
      ]
     },
     "execution_count": 5,
     "metadata": {},
     "output_type": "execute_result"
    }
   ],
   "source": [
    "SEL_df = pd.read_excel('./files/SEL.xlsx', engine='openpyxl')\n",
    "standard_emotions = SEL_df['Palabra']\n",
    "SEL_df['Categoría'].unique()"
   ]
  },
  {
   "cell_type": "markdown",
   "metadata": {},
   "source": [
    "In order to find matches between survey words and the standard ones, we use `get_close_matches` which compare words using similarity criteria."
   ]
  },
  {
   "cell_type": "code",
   "execution_count": 7,
   "metadata": {},
   "outputs": [
    {
     "name": "stdout",
     "output_type": "stream",
     "text": [
      "CPU times: user 14min 28s, sys: 43.1 ms, total: 14min 28s\n",
      "Wall time: 14min 28s\n"
     ]
    }
   ],
   "source": [
    "%%time\n",
    "emo_vector_matched = []\n",
    "final_category = []\n",
    "# iterate over the list of tokens\n",
    "for word in emotions['name_tokens']:\n",
    "    closest = []\n",
    "    categories = []\n",
    "    # for each word within the list (some people wrote sentences instead of a single word)\n",
    "    for w in word:\n",
    "        # get the closest emotion from SEL dictonary\n",
    "        closest_word = get_close_matches(w.strip(), standard_emotions,n=1, cutoff=0.7)\n",
    "        if closest_word != []:\n",
    "            # if we match some emotion then save its category\n",
    "            cat = SEL_df[SEL_df['Palabra']==closest_word[0]]['Categoría']\n",
    "            categories.append(cat.values[0])\n",
    "            closest.append(closest_word[0])\n",
    "        else:\n",
    "            continue\n",
    "    \n",
    "    # at the end of the process... check if the response has a category\n",
    "    if closest == []:\n",
    "        final_category.append('')        \n",
    "        emo_vector_matched.append('')\n",
    "    else:\n",
    "        final_category.append(categories[0])        \n",
    "        emo_vector_matched.append(closest[0])"
   ]
  },
  {
   "cell_type": "code",
   "execution_count": 40,
   "metadata": {},
   "outputs": [
    {
     "name": "stdout",
     "output_type": "stream",
     "text": [
      "Non categorized values: 4.3 %\n"
     ]
    }
   ],
   "source": [
    "print('Non categorized values: {:.1f} %'.format(emotions[emotions['macro'] == ''].shape[0]/emotions.shape[0]*100))"
   ]
  },
  {
   "cell_type": "code",
   "execution_count": 31,
   "metadata": {},
   "outputs": [],
   "source": [
    "emotions['macro'] = final_category"
   ]
  },
  {
   "cell_type": "code",
   "execution_count": 41,
   "metadata": {},
   "outputs": [
    {
     "data": {
      "text/html": [
       "<div>\n",
       "<style scoped>\n",
       "    .dataframe tbody tr th:only-of-type {\n",
       "        vertical-align: middle;\n",
       "    }\n",
       "\n",
       "    .dataframe tbody tr th {\n",
       "        vertical-align: top;\n",
       "    }\n",
       "\n",
       "    .dataframe thead th {\n",
       "        text-align: right;\n",
       "    }\n",
       "</style>\n",
       "<table border=\"1\" class=\"dataframe\">\n",
       "  <thead>\n",
       "    <tr style=\"text-align: right;\">\n",
       "      <th></th>\n",
       "      <th>id</th>\n",
       "      <th>diag_id</th>\n",
       "      <th>ind_id</th>\n",
       "      <th>name</th>\n",
       "      <th>name_tokens</th>\n",
       "      <th>macro</th>\n",
       "      <th>exp</th>\n",
       "      <th>exp_tokens</th>\n",
       "      <th>is_online</th>\n",
       "      <th>source_id</th>\n",
       "    </tr>\n",
       "  </thead>\n",
       "  <tbody>\n",
       "    <tr>\n",
       "      <th>31277</th>\n",
       "      <td>31277</td>\n",
       "      <td>ENC_U_4602875782409625234</td>\n",
       "      <td></td>\n",
       "      <td>tristeza</td>\n",
       "      <td>[tristeza]</td>\n",
       "      <td>Tristeza</td>\n",
       "      <td>por las personas afectadas y muertas en las pr...</td>\n",
       "      <td>['personas', 'afectadas', 'muertas', 'protestas']</td>\n",
       "      <td>0</td>\n",
       "      <td></td>\n",
       "    </tr>\n",
       "    <tr>\n",
       "      <th>38750</th>\n",
       "      <td>38750</td>\n",
       "      <td>ENC_U_4562196059036899654</td>\n",
       "      <td></td>\n",
       "      <td>rabia</td>\n",
       "      <td>[rabia]</td>\n",
       "      <td>Enojo</td>\n",
       "      <td>se mostro lo malo que pasaba y no el movimient...</td>\n",
       "      <td>['mostro', 'malo', 'pasaba', 'movimiento', 'si']</td>\n",
       "      <td>0</td>\n",
       "      <td></td>\n",
       "    </tr>\n",
       "    <tr>\n",
       "      <th>35406</th>\n",
       "      <td>35406</td>\n",
       "      <td>ENC_U_4518001924212637009</td>\n",
       "      <td></td>\n",
       "      <td>preocupacion/incertidumbre</td>\n",
       "      <td>[preocupacion,  incertidumbre]</td>\n",
       "      <td>Miedo</td>\n",
       "      <td>ante la falta de soluciones, ver pasar el tiem...</td>\n",
       "      <td>['falta', 'soluciones', 'ver', 'pasar', 'tiemp...</td>\n",
       "      <td>0</td>\n",
       "      <td></td>\n",
       "    </tr>\n",
       "  </tbody>\n",
       "</table>\n",
       "</div>"
      ],
      "text/plain": [
       "          id                    diag_id ind_id                        name  \\\n",
       "31277  31277  ENC_U_4602875782409625234                           tristeza   \n",
       "38750  38750  ENC_U_4562196059036899654                              rabia   \n",
       "35406  35406  ENC_U_4518001924212637009         preocupacion/incertidumbre   \n",
       "\n",
       "                          name_tokens     macro  \\\n",
       "31277                      [tristeza]  Tristeza   \n",
       "38750                         [rabia]     Enojo   \n",
       "35406  [preocupacion,  incertidumbre]     Miedo   \n",
       "\n",
       "                                                     exp  \\\n",
       "31277  por las personas afectadas y muertas en las pr...   \n",
       "38750  se mostro lo malo que pasaba y no el movimient...   \n",
       "35406  ante la falta de soluciones, ver pasar el tiem...   \n",
       "\n",
       "                                              exp_tokens  is_online source_id  \n",
       "31277  ['personas', 'afectadas', 'muertas', 'protestas']          0            \n",
       "38750   ['mostro', 'malo', 'pasaba', 'movimiento', 'si']          0            \n",
       "35406  ['falta', 'soluciones', 'ver', 'pasar', 'tiemp...          0            "
      ]
     },
     "execution_count": 41,
     "metadata": {},
     "output_type": "execute_result"
    }
   ],
   "source": [
    "emotions.sample(3)"
   ]
  },
  {
   "cell_type": "markdown",
   "metadata": {},
   "source": [
    "## TO CSV"
   ]
  },
  {
   "cell_type": "code",
   "execution_count": 42,
   "metadata": {},
   "outputs": [
    {
     "name": "stdout",
     "output_type": "stream",
     "text": [
      "CPU times: user 323 ms, sys: 28 ms, total: 351 ms\n",
      "Wall time: 352 ms\n"
     ]
    }
   ],
   "source": [
    "%%time\n",
    "emotions = emotions.to_csv('./out/emotions.csv', index=False)"
   ]
  },
  {
   "cell_type": "code",
   "execution_count": null,
   "metadata": {},
   "outputs": [],
   "source": []
  },
  {
   "cell_type": "code",
   "execution_count": null,
   "metadata": {},
   "outputs": [],
   "source": []
  },
  {
   "cell_type": "code",
   "execution_count": null,
   "metadata": {},
   "outputs": [],
   "source": []
  },
  {
   "cell_type": "code",
   "execution_count": null,
   "metadata": {},
   "outputs": [],
   "source": []
  }
 ],
 "metadata": {
  "kernelspec": {
   "display_name": "Python 3",
   "language": "python",
   "name": "python3"
  },
  "language_info": {
   "codemirror_mode": {
    "name": "ipython",
    "version": 3
   },
   "file_extension": ".py",
   "mimetype": "text/x-python",
   "name": "python",
   "nbconvert_exporter": "python",
   "pygments_lexer": "ipython3",
   "version": "3.6.7"
  }
 },
 "nbformat": 4,
 "nbformat_minor": 2
}
